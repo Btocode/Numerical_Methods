{
 "cells": [
  {
   "cell_type": "markdown",
   "metadata": {},
   "source": [
    "Before you turn this problem in, make sure everything runs as expected. First, **restart the kernel** (in the menubar, select Kernel$\\rightarrow$Restart) and then **run all cells** (in the menubar, select Cell$\\rightarrow$Run All).\n",
    "\n",
    "Make sure you fill in any place that says `YOUR CODE HERE` or \"YOUR ANSWER HERE\", as well as your name and collaborators below:"
   ]
  },
  {
   "cell_type": "code",
   "execution_count": 1,
   "metadata": {},
   "outputs": [],
   "source": [
    "NAME = \"Sayed Md Rahmat Ulla\"\n",
    "COLLABORATORS = \"\""
   ]
  },
  {
   "cell_type": "markdown",
   "metadata": {},
   "source": [
    "---"
   ]
  },
  {
   "cell_type": "markdown",
   "metadata": {
    "deletable": false,
    "editable": false,
    "nbgrader": {
     "cell_type": "markdown",
     "checksum": "27e24b52a44c16b029f64e3de6564379",
     "grade": false,
     "grade_id": "title",
     "locked": true,
     "schema_version": 3,
     "solution": false,
     "task": false
    }
   },
   "source": [
    "## CSE330 Lab: Richardson Extrapolation\n",
    "---"
   ]
  },
  {
   "cell_type": "markdown",
   "metadata": {},
   "source": [
    "## Instructions\n",
    "\n",
    "\n",
    "Today's assignment is to:\n",
    "1. Implement Richardson Extrapolation method using Python\n",
    "\n",
    "## Richardson Extrapolation:\n",
    "We used central difference method to calculate derivatives of functions last task. In this task we will use Richardson extrapolation to get a more accurate result.\n",
    "Let,\n",
    "$$ D_h = \\frac{f(x_1+h) -f(x_1-h)}{2h}\\tag{5.1}$$ \n",
    "\n",
    "\n",
    "General Taylor Series formula:\n",
    "$$ f(x) = f(x_1) + f'(x_1)(x - x_1) + \\frac{f''(x_1)}{2}(x - x_1)^2+... $$\n",
    "Using Taylor's theorem to expand we get,\n",
    "\n",
    "\\begin{align}\n",
    "f(x_1+h) &= f(x_1) + f^{\\prime}(x_1)h + \\frac{f^{\\prime \\prime}(x_1)}{2}h^2 + \\frac{f^{\\prime \\prime \\prime}(x_1)}{3!}h^3 + \\frac{f^{(4)}(x_1)}{4!}h^4 + \\frac{f^{(5)}(x_1)}{5!}h^5 + O(h^6)\\tag{5.2} \\\\\n",
    "f(x_1-h) &= f(x_1) - f^{\\prime}(x_1)h + \\frac{f^{\\prime \\prime}(x_1)}{2}h^2 - \\frac{f^{\\prime \\prime \\prime}(x_1)}{3!}h^3 + \\frac{f^{(4)}(x_1)}{4!}h^4 - \\frac{f^{(5)}(x_1)}{5!}h^5 + O(h^6)\\tag{5.3}\n",
    "\\end{align}\n",
    "Subtracting $5.3$ from $5.2$ we get,\n",
    "$$ f(x_1+h) - f(x_1-h) = 2f^{\\prime}(x_1)h + 2\\frac{f^{\\prime \\prime \\prime}(x_1)}{3!}h^3 + 2\\frac{f^{(5)}(x_1)}{5!}h^5 + O(h^7)\\tag{5.4}$$\n",
    "So,\n",
    "\\begin{align}\n",
    "D_h &= \\frac{f(x_1+h) - f(x_1-h)}{2h} \\\\\n",
    "&= \\frac{1}{2h} \\left( 2f^{\\prime}(x_1)h + 2\\frac{f^{\\prime \\prime \\prime}(x_1)}{3!}h^3 + 2\\frac{f^{(5)}(x_1)}{5!}h^5 + O(h^7) \\right) \\\\\n",
    "&= f^{\\prime}(x_1) + \\frac{f^{\\prime \\prime \\prime}(x_1)}{6}h^2 + \\frac{f^{(5)}(x_1)}{120}h^4 + O(h^6) \\tag{5.5}\n",
    "\\end{align}\n",
    "We get our derivative $f'(x)$ plus some error terms of order $>= 2$ Now, we want to bring our error order down to 4.\n",
    "\n",
    "If we use $h, \\text{and} \\frac{h}{2}$ as step size in $5.5$, we get,\n",
    "\\begin{align}\n",
    "D_h &= f^{\\prime}(x_1) + f^{\\prime \\prime \\prime}(x_1)\\frac{h^2}{6} + f^{(5)}(x_1) \\frac{h^4}{120} + O(h^6) \\tag{5.6} \\\\\n",
    "D_{h/2} &= f^{\\prime}(x_1) + f^{\\prime \\prime \\prime}(x_1)\\frac{h^2}{2^2 . 6} + f^{(5)}(x_1) \\frac{h^4}{2^4 . 120} + O(h^6) \\tag{5.7}\n",
    "\\end{align}\n",
    "Multiplying $5.7$ by $4$ and subtracting from $5.6$ we get,\n",
    "\\begin{align}\n",
    "D_h - 4D_{h/2} &= -3f^{\\prime}(x) + f^{(5)}(x_1) \\frac{h^4}{160} + O(h^6)\\\\ \n",
    "\\Longrightarrow D^{(1)}_h = \\frac{4D_{h/2} - D_h}{3} &= f^{\\prime}(x) - f^{(5)}(x_1) \\frac{h^4}{480} + O(h^6) \\tag{5.8}\n",
    "\\end{align}\n",
    "Let's calculate the derivative using $5.8$\n",
    "\n",
    "\n",
    "### 1. Let's import the necessary headers"
   ]
  },
  {
   "cell_type": "code",
   "execution_count": 2,
   "metadata": {
    "deletable": false,
    "editable": false,
    "nbgrader": {
     "cell_type": "code",
     "checksum": "4ea189a3a3ab821e539a8ef59eeedac9",
     "grade": false,
     "grade_id": "import",
     "locked": true,
     "schema_version": 3,
     "solution": false,
     "task": false
    }
   },
   "outputs": [],
   "source": [
    "import numpy as np\n",
    "import pandas as pd\n",
    "import matplotlib.pyplot as plt \n",
    "from numpy.polynomial import Polynomial"
   ]
  },
  {
   "cell_type": "markdown",
   "metadata": {
    "deletable": false,
    "editable": false,
    "nbgrader": {
     "cell_type": "markdown",
     "checksum": "e27083bd92601d261a03535c8c2ae62f",
     "grade": false,
     "grade_id": "dh_intro",
     "locked": true,
     "schema_version": 3,
     "solution": false,
     "task": false
    }
   },
   "source": [
    "### 2. Let's create a function named `dh(f, h, x)`\n",
    "function `dh(f, h, x)` takes three parameters as input: a function `f`, a value `h`, and a set of values `x`. It returns the derivatives of the function at each elements of array `x` using the Central Difference method. This calculates equation $(5.1)$."
   ]
  },
  {
   "cell_type": "code",
   "execution_count": 3,
   "metadata": {
    "deletable": false,
    "nbgrader": {
     "cell_type": "code",
     "checksum": "0edfa536d7ff811f5f4f0764886bdcf4",
     "grade": false,
     "grade_id": "dh_ans",
     "locked": false,
     "schema_version": 3,
     "solution": true,
     "task": false
    }
   },
   "outputs": [],
   "source": [
    "def dh(f, h, x):\n",
    "    '''\n",
    "    Input:\n",
    "        f: np.polynomial.Polynonimial type data. \n",
    "        h: floating point data.\n",
    "        x: np.array type data.\n",
    "    Output:\n",
    "        return np.array type data of slope at each point x.\n",
    "    '''\n",
    "    # --------------------------------------------\n",
    "    # YOUR CODE HERE\n",
    "    \n",
    "    return ((f(x) + h) - (f(x) - h)) / (2 * h)\n",
    "        \n",
    "    # --------------------------------------------"
   ]
  },
  {
   "cell_type": "markdown",
   "metadata": {
    "deletable": false,
    "editable": false,
    "nbgrader": {
     "cell_type": "markdown",
     "checksum": "f1bbacc4957994b7833661aeacf10cd4",
     "grade": false,
     "grade_id": "dh1_intro",
     "locked": true,
     "schema_version": 3,
     "solution": false,
     "task": false
    }
   },
   "source": [
    "### 3. Let's create another funtion `dh1(f, h, x)`.\n",
    "`dh1(f, h, x)` takes the same type of values as `dh(f, h, x)` as input. It calculates the derivative using previously defined `dh(f, h, x)` function and using equation $5.8$ and returns the values."
   ]
  },
  {
   "cell_type": "code",
   "execution_count": 4,
   "metadata": {
    "deletable": false,
    "nbgrader": {
     "cell_type": "code",
     "checksum": "26b316503c40d32d4f394c696f5665d3",
     "grade": false,
     "grade_id": "dh1_ans",
     "locked": false,
     "schema_version": 3,
     "solution": true,
     "task": false
    }
   },
   "outputs": [],
   "source": [
    "def dh1(f, h, x):\n",
    "    '''\n",
    "    Input:\n",
    "        f: np.polynomial.Polynonimial type data. \n",
    "        h: floating point data.\n",
    "        x: np.array type data.\n",
    "    Output:\n",
    "        return np.array type data of slope at each point x.\n",
    "    '''\n",
    "    # --------------------------------------------\n",
    "    # YOUR CODE HERE\n",
    "    dh_1 = ((4 * dh(f, h / 2, x)) - dh(f, h , x)) / 3\n",
    "       \n",
    "    return dh_1\n",
    "    # --------------------------------------------"
   ]
  },
  {
   "cell_type": "markdown",
   "metadata": {
    "deletable": false,
    "editable": false,
    "nbgrader": {
     "cell_type": "markdown",
     "checksum": "1c0f9f4ebd0f2223e8898e41b77c94fd",
     "grade": false,
     "grade_id": "cell-5fe2898d91db1c2b",
     "locked": true,
     "schema_version": 3,
     "solution": false,
     "task": false
    }
   },
   "source": [
    "### 4. Now let's create the `error(f, hs, x_i)` function\n",
    "The `error(f, hs, x_i)` function takes a function `f` as input. It also takes a list of different values of h as `hs` and a specific value as `x_i` as input. It calculates the derivatives as point `x_i` using both functions described in **B** and **C**, i.e. `dh` and `dh1`"
   ]
  },
  {
   "cell_type": "code",
   "execution_count": 5,
   "metadata": {
    "deletable": false,
    "nbgrader": {
     "cell_type": "code",
     "checksum": "70fcb32c61cb98aa174218de99f4b360",
     "grade": false,
     "grade_id": "error_ans",
     "locked": false,
     "schema_version": 3,
     "solution": true,
     "task": false
    }
   },
   "outputs": [],
   "source": [
    "def error(f, hs, x_i):  #Using the functions we wrote dh() my c_diff  and dh1() which is my first order c diff, we find the error through appending their diffrences with Y_actual ny f(x)\n",
    "    '''\n",
    "    Input:\n",
    "        f  : np.polynomial.Polynonimial type data. \n",
    "        hs : np.array type data. list of h.\n",
    "        x_i: floating point data. single value of x.\n",
    "    Output:\n",
    "        return two np.array type data of errors by two methods..\n",
    "    '''\n",
    "    f_prime = f.deriv(1)   #first order derivitive f^1(x)\n",
    "    Y_actual = f_prime(x_i)  \n",
    "\n",
    "    diff_error = []\n",
    "    diff2_error = []\n",
    "\n",
    "    for h in hs: #where h is my loop counter iterating through hs\n",
    "        # for each values of hs calculate the error using both methods\n",
    "        # and append those values into diff_error and diff2_error list.\n",
    "\n",
    "        # --------------------------------------------\n",
    "        # YOUR CODE HERE\n",
    "        temp1 = Y_actual - dh(f, hs, x_i)\n",
    "        diff_error.append(temp1)\n",
    "        temp2 = Y_actual - dh1(f, hs, x_i)\n",
    "        diff2_error.append(temp2)\n",
    "        pass\n",
    "        # --------------------------------------------\n",
    "        \n",
    "    print(pd.DataFrame({\"h\": hs, \"Diff\": diff_error, \"Diff2\": diff2_error}))\n",
    "\n",
    "    return diff_error, diff2_error"
   ]
  },
  {
   "cell_type": "markdown",
   "metadata": {
    "deletable": false,
    "editable": false,
    "nbgrader": {
     "cell_type": "markdown",
     "checksum": "ba354367b7ce12b76bdd4053c5723c4a",
     "grade": false,
     "grade_id": "test_into",
     "locked": true,
     "schema_version": 3,
     "solution": false,
     "task": false
    }
   },
   "source": [
    "### 5. Finally let's run some tests\n",
    "function to draw the actual function"
   ]
  },
  {
   "cell_type": "code",
   "execution_count": 6,
   "metadata": {
    "deletable": false,
    "editable": false,
    "nbgrader": {
     "cell_type": "code",
     "checksum": "54d8796b71dca46c14019c4590e886fc",
     "grade": false,
     "grade_id": "actual_func",
     "locked": true,
     "schema_version": 3,
     "solution": false,
     "task": false
    }
   },
   "outputs": [],
   "source": [
    "def draw_graph(f, ax, domain=[-10, 10], label=None):\n",
    "    data = f.linspace(domain=domain)\n",
    "    ax.plot(data[0], data[1], label='Function')"
   ]
  },
  {
   "cell_type": "markdown",
   "metadata": {
    "deletable": false,
    "editable": false,
    "nbgrader": {
     "cell_type": "markdown",
     "checksum": "fd6302aa88b07e353185e648c21de7ff",
     "grade": false,
     "grade_id": "plt1_intro",
     "locked": true,
     "schema_version": 3,
     "solution": false,
     "task": false
    }
   },
   "source": [
    "### Draw the polynomial and it's actual derivative function"
   ]
  },
  {
   "cell_type": "code",
   "execution_count": 7,
   "metadata": {
    "deletable": false,
    "editable": false,
    "nbgrader": {
     "cell_type": "code",
     "checksum": "a1eaf5d0a595e375ed21345dd87285fe",
     "grade": false,
     "grade_id": "plt1",
     "locked": true,
     "schema_version": 3,
     "solution": false,
     "task": false
    }
   },
   "outputs": [
    {
     "data": {
      "text/plain": [
       "<matplotlib.legend.Legend at 0x7fa383afd438>"
      ]
     },
     "execution_count": 7,
     "metadata": {},
     "output_type": "execute_result"
    },
    {
     "data": {
      "image/png": "[encoded data removed]",
      "text/plain": [
       "<Figure size 432x288 with 1 Axes>"
      ]
     },
     "metadata": {
      "needs_background": "light"
     },
     "output_type": "display_data"
    }
   ],
   "source": [
    "fig, ax = plt.subplots()\n",
    "ax.axhline(y=0, color='k')\n",
    "\n",
    "p = Polynomial([2.0, 1.0, -6.0, -2.0, 2.5, 1.0])\n",
    "p_prime = p.deriv(1)\n",
    "draw_graph(p, ax, [-2.4, 1.5], 'Function')\n",
    "draw_graph(p_prime, ax, [-2.4, 1.5], 'Derivative')\n",
    "\n",
    "ax.legend()"
   ]
  },
  {
   "cell_type": "markdown",
   "metadata": {
    "deletable": false,
    "editable": false,
    "nbgrader": {
     "cell_type": "markdown",
     "checksum": "bde2685f15d0c8559c267a64bc503a83",
     "grade": false,
     "grade_id": "cell-f00acc547d5112db",
     "locked": true,
     "schema_version": 3,
     "solution": false,
     "task": false
    }
   },
   "source": [
    "### Draw the actual derivative and richardson derivative using `h=1` and `h=0.1` as step size."
   ]
  },
  {
   "cell_type": "code",
   "execution_count": 8,
   "metadata": {
    "deletable": false,
    "editable": false,
    "nbgrader": {
     "cell_type": "code",
     "checksum": "35baa24f9a45907e2b18d96da1fce24c",
     "grade": true,
     "grade_id": "dh1_test",
     "locked": true,
     "points": 10,
     "schema_version": 3,
     "solution": false,
     "task": false
    }
   },
   "outputs": [
    {
     "data": {
      "text/plain": [
       "<matplotlib.legend.Legend at 0x7fa383a157f0>"
      ]
     },
     "execution_count": 8,
     "metadata": {},
     "output_type": "execute_result"
    },
    {
     "data": {
      "image/png": "[encoded data removed]",
      "text/plain": [
       "<Figure size 432x288 with 1 Axes>"
      ]
     },
     "metadata": {
      "needs_background": "light"
     },
     "output_type": "display_data"
    }
   ],
   "source": [
    "fig, ax = plt.subplots()\n",
    "ax.axhline(y=0, color='k')\n",
    "\n",
    "draw_graph(p_prime, ax, [-2.4, 1.5], 'actual')\n",
    "\n",
    "h = 1\n",
    "x = np.linspace(-2.4, 1.5, 50, endpoint=True)\n",
    "y = dh1(p, h, x)\n",
    "ax.plot(x, y, label='Richardson; h=1')\n",
    "\n",
    "h = 0.1\n",
    "x = np.linspace(-2.4, 1.5, 50, endpoint=True)\n",
    "y = dh1(p, h, x)\n",
    "ax.plot(x, y, label='Richardson; h=0.1')\n",
    "\n",
    "ax.legend()\n"
   ]
  },
  {
   "cell_type": "markdown",
   "metadata": {
    "deletable": false,
    "editable": false,
    "nbgrader": {
     "cell_type": "markdown",
     "checksum": "742a727d9a6f5c75fb1ed0d0709bb75b",
     "grade": false,
     "grade_id": "dvh_intro",
     "locked": true,
     "schema_version": 3,
     "solution": false,
     "task": false
    }
   },
   "source": [
    "### Draw error-vs-h cuve"
   ]
  },
  {
   "cell_type": "code",
   "execution_count": 9,
   "metadata": {
    "deletable": false,
    "editable": false,
    "nbgrader": {
     "cell_type": "code",
     "checksum": "22fcce203a5738cd4551043f5cb6311d",
     "grade": true,
     "grade_id": "error_test",
     "locked": true,
     "points": 10,
     "schema_version": 3,
     "solution": false,
     "task": false
    }
   },
   "outputs": [
    {
     "name": "stdout",
     "output_type": "stream",
     "text": [
      "       h                                               Diff  \\\n",
      "0  1.000  [112.0, 112.0, 112.00000000000001, 111.9999999...   \n",
      "1  0.550  [112.0, 112.0, 112.00000000000001, 111.9999999...   \n",
      "2  0.300  [112.0, 112.0, 112.00000000000001, 111.9999999...   \n",
      "3  0.170  [112.0, 112.0, 112.00000000000001, 111.9999999...   \n",
      "4  0.100  [112.0, 112.0, 112.00000000000001, 111.9999999...   \n",
      "5  0.055  [112.0, 112.0, 112.00000000000001, 111.9999999...   \n",
      "6  0.030  [112.0, 112.0, 112.00000000000001, 111.9999999...   \n",
      "7  0.017  [112.0, 112.0, 112.00000000000001, 111.9999999...   \n",
      "8  0.010  [112.0, 112.0, 112.00000000000001, 111.9999999...   \n",
      "\n",
      "                                               Diff2  \n",
      "0  [112.0, 112.0, 112.00000000000001, 111.9999999...  \n",
      "1  [112.0, 112.0, 112.00000000000001, 111.9999999...  \n",
      "2  [112.0, 112.0, 112.00000000000001, 111.9999999...  \n",
      "3  [112.0, 112.0, 112.00000000000001, 111.9999999...  \n",
      "4  [112.0, 112.0, 112.00000000000001, 111.9999999...  \n",
      "5  [112.0, 112.0, 112.00000000000001, 111.9999999...  \n",
      "6  [112.0, 112.0, 112.00000000000001, 111.9999999...  \n",
      "7  [112.0, 112.0, 112.00000000000001, 111.9999999...  \n",
      "8  [112.0, 112.0, 112.00000000000001, 111.9999999...  \n"
     ]
    },
    {
     "data": {
      "text/plain": [
       "<matplotlib.legend.Legend at 0x7fa3839348d0>"
      ]
     },
     "execution_count": 9,
     "metadata": {},
     "output_type": "execute_result"
    },
    {
     "data": {
      "image/png": "[encoded data removed]",
      "text/plain": [
       "<Figure size 432x288 with 1 Axes>"
      ]
     },
     "metadata": {
      "needs_background": "light"
     },
     "output_type": "display_data"
    }
   ],
   "source": [
    "fig, ax = plt.subplots()\n",
    "ax.axhline(y=0, color='k')\n",
    "hs = np.array([1., 0.55, 0.3, .17, 0.1, 0.055, 0.03, 0.017, 0.01])\n",
    "e1, e2 = error(p, hs, 2.0)\n",
    "ax.plot(hs, e1, label='e1')\n",
    "ax.plot(hs, e2, label='e2')\n",
    "\n",
    "ax.legend()\n"
   ]
  },
  {
   "cell_type": "code",
   "execution_count": null,
   "metadata": {},
   "outputs": [],
   "source": []
  }
 ],
 "metadata": {
  "kernelspec": {
   "display_name": "Python 3",
   "language": "python",
   "name": "python3"
  },
  "language_info": {
   "codemirror_mode": {
    "name": "ipython",
    "version": 3
   },
   "file_extension": ".py",
   "mimetype": "text/x-python",
   "name": "python",
   "nbconvert_exporter": "python",
   "pygments_lexer": "ipython3",
   "version": "3.7.3"
  }
 },
 "nbformat": 4,
 "nbformat_minor": 2
}
